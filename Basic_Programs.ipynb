{
 "cells": [
  {
   "cell_type": "markdown",
   "metadata": {
    "id": "RnbssAn-5VSD"
   },
   "source": [
    "# Hello World"
   ]
  },
  {
   "cell_type": "code",
   "execution_count": 11,
   "metadata": {
    "colab": {
     "base_uri": "https://localhost:8080/"
    },
    "id": "e61oiza85RlJ",
    "outputId": "696aa712-d82e-44c4-fc81-c2904d8cbfb8"
   },
   "outputs": [
    {
     "name": "stdout",
     "output_type": "stream",
     "text": [
      "Hello World\n"
     ]
    }
   ],
   "source": [
    "print(\"Hello World\")"
   ]
  },
  {
   "cell_type": "markdown",
   "metadata": {
    "id": "YQVbpSnj5jZO"
   },
   "source": [
    "## Add Two numbers"
   ]
  },
  {
   "cell_type": "code",
   "execution_count": 1,
   "metadata": {
    "colab": {
     "base_uri": "https://localhost:8080/"
    },
    "id": "poNi08nX5b_d",
    "outputId": "2b632fd4-b136-4e29-c939-a2ff38939465"
   },
   "outputs": [
    {
     "name": "stdin",
     "output_type": "stream",
     "text": [
      "Enter first Number:  4\n",
      "Enter Second Number:  5\n"
     ]
    },
    {
     "name": "stdout",
     "output_type": "stream",
     "text": [
      "Sum of Two number is 9.0\n"
     ]
    }
   ],
   "source": [
    "num1=float(input(\"Enter first Number: \"))\n",
    "num2=float(input(\"Enter Second Number: \"))\n",
    "\n",
    "sum=num1+num2\n",
    "print(f\"Sum of Two number is {sum}\")"
   ]
  },
  {
   "cell_type": "markdown",
   "metadata": {
    "id": "muv5790w59cT"
   },
   "source": [
    "## Divsion of Two Numbers"
   ]
  },
  {
   "cell_type": "code",
   "execution_count": null,
   "metadata": {
    "colab": {
     "base_uri": "https://localhost:8080/"
    },
    "id": "nwtLSAhO569m",
    "outputId": "70173046-53ab-41ba-d536-a29976f57c3c"
   },
   "outputs": [
    {
     "name": "stdout",
     "output_type": "stream",
     "text": [
      "Enter Dividend for Division: 20\n",
      "Enter Divisor for Division: 5\n",
      "Division 20.0/5.0 = 4.0\n"
     ]
    }
   ],
   "source": [
    "num3=float(input(\"Enter Dividend for Division: \"))\n",
    "num4=float(input(\"Enter Divisor for Division: \"))\n",
    "\n",
    "if num3==0:\n",
    "  print(\"Divisor Should not be equal to zero. \")\n",
    "else:\n",
    "  result=num3/num4\n",
    "  print(f\"Division {num3}/{num4} = {result}\")"
   ]
  },
  {
   "cell_type": "markdown",
   "metadata": {
    "id": "xAmIvojN-QIO"
   },
   "source": [
    "# Area of Triangle"
   ]
  },
  {
   "cell_type": "code",
   "execution_count": null,
   "metadata": {
    "colab": {
     "base_uri": "https://localhost:8080/"
    },
    "id": "YVvto5eP63dx",
    "outputId": "1bf502ca-6682-4028-f802-e39b880160d3"
   },
   "outputs": [
    {
     "name": "stdout",
     "output_type": "stream",
     "text": [
      "Enter the base of Triangle: 10\n",
      "Enter the height of Triangle: 15\n",
      "Area of Triangle is : 75.0\n"
     ]
    }
   ],
   "source": [
    "base=float(input(\"Enter the base of Triangle: \"))\n",
    "height=float(input(\"Enter the height of Triangle: \"))\n",
    "\n",
    "area=0.5*base*height\n",
    "\n",
    "print(f\"Area of Triangle is : {area}\")"
   ]
  },
  {
   "cell_type": "markdown",
   "metadata": {
    "id": "HCVyzB-t-7r1"
   },
   "source": [
    "## Swap Two Variables"
   ]
  },
  {
   "cell_type": "code",
   "execution_count": null,
   "metadata": {
    "colab": {
     "base_uri": "https://localhost:8080/"
    },
    "id": "FHRIBReV-vkS",
    "outputId": "e57f587b-59e3-49e6-ee1d-801dce43e25b"
   },
   "outputs": [
    {
     "name": "stdout",
     "output_type": "stream",
     "text": [
      "Enter Number one: 5\n",
      "Enter Number Two: 10\n",
      "****Before Swaping****\n",
      "Value of Numbers are a=5.0, b=10.0\n",
      "\n",
      "\n",
      "****After Swaping****\n",
      "Value of Numbers are a=10.0, b=5.0\n"
     ]
    }
   ],
   "source": [
    "numb1=float(input(\"Enter Number one: \"))\n",
    "numb2=float(input(\"Enter Number Two: \"))\n",
    "\n",
    "print(\"****Before Swaping****\")\n",
    "print(f\"Value of Numbers are a={numb1}, b={numb2}\")\n",
    "\n",
    "temp=numb1\n",
    "numb1=numb2\n",
    "numb2=temp\n",
    "\n",
    "print(\"\\n\")\n",
    "print(\"****After Swaping****\")\n",
    "print(f\"Value of Numbers are a={numb1}, b={numb2}\")\n"
   ]
  },
  {
   "cell_type": "markdown",
   "metadata": {
    "id": "82l7y-yCAHaO"
   },
   "source": [
    "## Generate Random Number between 1 to 100"
   ]
  },
  {
   "cell_type": "code",
   "execution_count": null,
   "metadata": {
    "colab": {
     "base_uri": "https://localhost:8080/"
    },
    "id": "1myUrYpR__13",
    "outputId": "854312d4-50e8-4523-edde-b13fb6e4e8ff"
   },
   "outputs": [
    {
     "name": "stdout",
     "output_type": "stream",
     "text": [
      "4\n"
     ]
    }
   ],
   "source": [
    "import random\n",
    "print(random.randint(1,100))\n"
   ]
  },
  {
   "cell_type": "markdown",
   "metadata": {
    "id": "8iCq-8-8Adwp"
   },
   "source": [
    "## Program to Convert Kilometers to Miles"
   ]
  },
  {
   "cell_type": "code",
   "execution_count": null,
   "metadata": {
    "colab": {
     "base_uri": "https://localhost:8080/"
    },
    "id": "xT0ye6Z8AYV-",
    "outputId": "a5dd16b4-e848-4918-90c4-9fa224689940"
   },
   "outputs": [
    {
     "name": "stdout",
     "output_type": "stream",
     "text": [
      "Enter distance in Kilometers: 5\n",
      "5.0 Kilometers = 3.10685595 Miles\n"
     ]
    }
   ],
   "source": [
    "kilometers=float(input(\"Enter distance in Kilometers: \"))\n",
    "\n",
    "#1 kilometer= 0.62137119 miles\n",
    "conversion_factor= 0.62137119\n",
    "\n",
    "result=kilometers*conversion_factor\n",
    "\n",
    "print(f\"{kilometers} Kilometers = {result} Miles\")"
   ]
  },
  {
   "cell_type": "markdown",
   "metadata": {
    "id": "kq85ounPFoAM"
   },
   "source": [
    "## Fahrenheit to Celsius"
   ]
  },
  {
   "cell_type": "code",
   "execution_count": null,
   "metadata": {
    "colab": {
     "base_uri": "https://localhost:8080/"
    },
    "id": "PbiW1sPNFIPw",
    "outputId": "3e06f19e-e442-4473-ffd5-aacfacc01950"
   },
   "outputs": [
    {
     "name": "stdout",
     "output_type": "stream",
     "text": [
      "Enter Temperature in celsius: 100\n",
      "100.0 Fahrenheit = 212.0 Celsius\n"
     ]
    }
   ],
   "source": [
    "celsius=float(input(\"Enter Temperature in celsius: \"))\n",
    "\n",
    "Fahrenheit=celsius*(9/5)+32\n",
    "\n",
    "print(f\"{celsius} Fahrenheit = {Fahrenheit} Celsius\")"
   ]
  },
  {
   "cell_type": "markdown",
   "metadata": {
    "id": "4oQM2izsG_Dp"
   },
   "source": [
    "\n",
    "## Display Calender\n",
    "\n"
   ]
  },
  {
   "cell_type": "code",
   "execution_count": null,
   "metadata": {
    "colab": {
     "base_uri": "https://localhost:8080/"
    },
    "id": "OwNYTEIDGJ9e",
    "outputId": "41efe3eb-4de3-46c6-ca5c-74b019878b1a"
   },
   "outputs": [
    {
     "name": "stdout",
     "output_type": "stream",
     "text": [
      "Enter Year: 2023\n",
      "Enter Month: 12\n",
      "   December 2023\n",
      "Mo Tu We Th Fr Sa Su\n",
      "             1  2  3\n",
      " 4  5  6  7  8  9 10\n",
      "11 12 13 14 15 16 17\n",
      "18 19 20 21 22 23 24\n",
      "25 26 27 28 29 30 31\n",
      "\n"
     ]
    }
   ],
   "source": [
    "import calendar\n",
    "\n",
    "year=int(input(\"Enter Year: \"))\n",
    "month=int(input(\"Enter Month: \"))\n",
    "\n",
    "cal=calendar.month(year, month)\n",
    "print(cal)"
   ]
  },
  {
   "cell_type": "markdown",
   "metadata": {},
   "source": [
    "## Swap Two Variables without using Temp Variable"
   ]
  },
  {
   "cell_type": "code",
   "execution_count": 4,
   "metadata": {
    "id": "aIbBg5axHaNk"
   },
   "outputs": [
    {
     "name": "stdout",
     "output_type": "stream",
     "text": [
      "****Before Swaping****\n",
      "Value of Numbers are a=5, b=6\n",
      "\n",
      "\n",
      "****After Swaping****\n",
      "Value of Numbers are a=6, b=5\n"
     ]
    }
   ],
   "source": [
    "a=5\n",
    "b=6\n",
    "\n",
    "print(\"****Before Swaping****\")\n",
    "print(f\"Value of Numbers are a={a}, b={b}\")\n",
    "\n",
    "a,b=b,a\n",
    "\n",
    "print(\"\\n\")\n",
    "print(\"****After Swaping****\")\n",
    "print(f\"Value of Numbers are a={a}, b={b}\")"
   ]
  },
  {
   "cell_type": "markdown",
   "metadata": {},
   "source": [
    "## Program to weather Number is Positive Negative or Zero"
   ]
  },
  {
   "cell_type": "code",
   "execution_count": null,
   "metadata": {},
   "outputs": [],
   "source": [
    "num=float(input(\"Enter any Number: \"))\n",
    "\n",
    "if num==0:\n",
    "    print(\"Number is zero.\")\n",
    "elif num>0:\n",
    "    print(\"Number is Postive\")\n",
    "else:\n",
    "    print(\"Number is Negative\")\n"
   ]
  },
  {
   "cell_type": "markdown",
   "metadata": {},
   "source": [
    "## Program To check weather number is Even or Odd"
   ]
  },
  {
   "cell_type": "code",
   "execution_count": 16,
   "metadata": {},
   "outputs": [
    {
     "name": "stdin",
     "output_type": "stream",
     "text": [
      "Enter a Number:  5\n"
     ]
    },
    {
     "name": "stdout",
     "output_type": "stream",
     "text": [
      "5 is Odd\n"
     ]
    }
   ],
   "source": [
    "num=int(input(\"Enter a Number: \"))\n",
    "\n",
    "if num%2==0:\n",
    "    print(f\"{num} is Even\")\n",
    "elif num%2!=0:\n",
    "    print(f\"{num} is Odd\")\n",
    "else:\n",
    "    print(\"Please enter valid Number.\")"
   ]
  },
  {
   "cell_type": "markdown",
   "metadata": {},
   "source": [
    "## Write prgram to check weather Year is Leap or Not"
   ]
  },
  {
   "cell_type": "code",
   "execution_count": 18,
   "metadata": {},
   "outputs": [
    {
     "name": "stdin",
     "output_type": "stream",
     "text": [
      "Enter Year:  2024\n"
     ]
    },
    {
     "name": "stdout",
     "output_type": "stream",
     "text": [
      "2024 is Leap Year.\n"
     ]
    }
   ],
   "source": [
    "year=int(input(\"Enter Year: \"))\n",
    "\n",
    "if (year%400==0) and (year%100==0):\n",
    "    print(f\"{year} is Leap Year.\")\n",
    "\n",
    "elif year%4==0 and year%100:\n",
    "    print(f\"{year} is Leap Year.\")\n",
    "\n",
    "else: \n",
    "    print(f\"{year} is not Leap Year.\")\n",
    "        \n",
    "         "
   ]
  },
  {
   "cell_type": "markdown",
   "metadata": {},
   "source": [
    "## Check weather a number is Prime or Not"
   ]
  },
  {
   "cell_type": "code",
   "execution_count": 25,
   "metadata": {},
   "outputs": [
    {
     "name": "stdin",
     "output_type": "stream",
     "text": [
      "Enter a Number:  9\n"
     ]
    },
    {
     "name": "stdout",
     "output_type": "stream",
     "text": [
      "9 is Not Prime Number.\n"
     ]
    }
   ],
   "source": [
    "num=int(input(\"Enter a Number: \"))\n",
    "\n",
    "flag=False\n",
    "\n",
    "if num==1:\n",
    "    print(f\"{num} is Prime Number.\")\n",
    "elif num>1:\n",
    "    for i in range(2,num):\n",
    "        if (num%i)==0:\n",
    "            flag=True\n",
    "            break\n",
    "\n",
    "if flag:\n",
    "    print(f\"{num} is Not Prime Number.\")\n",
    "\n",
    "else:\n",
    "    print(f\"{num} is Prime Number.\")"
   ]
  },
  {
   "cell_type": "markdown",
   "metadata": {},
   "source": [
    "## Write Program to print Prime number interval 1-10"
   ]
  },
  {
   "cell_type": "code",
   "execution_count": 44,
   "metadata": {},
   "outputs": [
    {
     "name": "stdout",
     "output_type": "stream",
     "text": [
      "2,3,5,7,"
     ]
    }
   ],
   "source": [
    "start=1\n",
    "end=10\n",
    "\n",
    "\n",
    "for num in range(start, end+1):\n",
    "    if num>1:\n",
    "        for i in range(2,num):\n",
    "            if (num%i)==0:\n",
    "                break\n",
    "        else:\n",
    "            print(num,end=',')\n",
    "\n",
    "\n",
    "            \n",
    "        "
   ]
  },
  {
   "cell_type": "markdown",
   "metadata": {},
   "source": [
    "## Find Factorial of Number"
   ]
  },
  {
   "cell_type": "code",
   "execution_count": 4,
   "metadata": {},
   "outputs": [
    {
     "name": "stdin",
     "output_type": "stream",
     "text": [
      "Enter a Number to find factorial:  5\n"
     ]
    },
    {
     "name": "stdout",
     "output_type": "stream",
     "text": [
      "120\n"
     ]
    }
   ],
   "source": [
    "fact=1\n",
    "\n",
    "num=int(input(\"Enter a Number to find factorial: \"))\n",
    "if num<0:\n",
    "    print(\"Number Should be Zero or Greater than 0.\")\n",
    "elif num==0:\n",
    "    print(\"Factorial of 0 is 1.\")\n",
    "else:\n",
    "    for i in range(1,num+1):\n",
    "        fact=fact*i\n",
    "        i=i+1\n",
    "    print(fact)"
   ]
  },
  {
   "cell_type": "markdown",
   "metadata": {},
   "source": [
    "## Code to show multiplication table"
   ]
  },
  {
   "cell_type": "code",
   "execution_count": 9,
   "metadata": {},
   "outputs": [
    {
     "name": "stdout",
     "output_type": "stream",
     "text": [
      "13X1 = 13\n",
      "13X2 = 26\n",
      "13X3 = 39\n",
      "13X4 = 52\n",
      "13X5 = 65\n",
      "13X6 = 78\n",
      "13X7 = 91\n",
      "13X8 = 104\n",
      "13X9 = 117\n",
      "13X10 = 130\n"
     ]
    }
   ],
   "source": [
    "## let's suppose in this code table is of 13 up to 10\n",
    "for i in range(1,11):\n",
    "    print(f\"13X{i} = {13*i}\")"
   ]
  },
  {
   "cell_type": "markdown",
   "metadata": {},
   "source": [
    "##  Code to Print Fibonacci Series"
   ]
  },
  {
   "cell_type": "code",
   "execution_count": 14,
   "metadata": {},
   "outputs": [
    {
     "name": "stdin",
     "output_type": "stream",
     "text": [
      "How many terms? 15\n"
     ]
    },
    {
     "name": "stdout",
     "output_type": "stream",
     "text": [
      "Fibonacci series are:\n",
      "0\n",
      "1\n",
      "1\n",
      "2\n",
      "3\n",
      "5\n",
      "8\n",
      "13\n",
      "21\n",
      "34\n",
      "55\n",
      "89\n",
      "144\n",
      "233\n",
      "377\n"
     ]
    }
   ],
   "source": [
    "nterms=int(input(\"How many terms?\"))\n",
    "\n",
    "n1=0\n",
    "n2=1\n",
    "count=0\n",
    "\n",
    "if nterms<0:\n",
    "    print(\"Please Enter a positive Integer.\")\n",
    "elif nterms==0:\n",
    "    print(f\"Fibonacci Series upto nterm is {n1}.\")\n",
    "else:\n",
    "    print(\"Fibonacci series are:\")\n",
    "    while count<nterms:\n",
    "        print(n1)\n",
    "        nth=n1+n2\n",
    "        n1=n2\n",
    "        n2=nth\n",
    "        count+=1\n",
    "\n"
   ]
  },
  {
   "cell_type": "markdown",
   "metadata": {},
   "source": [
    "## Program to Find sum of Natural Numbers"
   ]
  },
  {
   "cell_type": "code",
   "execution_count": 10,
   "metadata": {},
   "outputs": [
    {
     "name": "stdin",
     "output_type": "stream",
     "text": [
      "Enter the limit of Numbers:  10\n"
     ]
    },
    {
     "name": "stdout",
     "output_type": "stream",
     "text": [
      "Numbers are: \n",
      "1,2,3,4,5,6,7,8,9,10,\n",
      "\n",
      "Sum of all Natural Numbers is 55\n"
     ]
    }
   ],
   "source": [
    "limit=int(input(\"Enter the limit of Numbers: \"))\n",
    "sum=0\n",
    "\n",
    "print(f\"Numbers are: \")\n",
    "for i in range(1,limit+1):\n",
    "    print(f\"{i}\",end=',')\n",
    "    sum=sum+i\n",
    "print(\"\\n\")\n",
    "print(f\"Sum of all Natural Numbers is {sum}\")"
   ]
  },
  {
   "cell_type": "markdown",
   "metadata": {},
   "source": [
    "## Program to find ASCII Numbers of Character"
   ]
  },
  {
   "cell_type": "code",
   "execution_count": 1,
   "metadata": {},
   "outputs": [
    {
     "name": "stdin",
     "output_type": "stream",
     "text": [
      "Enter any Character:  r\n"
     ]
    },
    {
     "name": "stdout",
     "output_type": "stream",
     "text": [
      "The ASCII value of r is 114\n"
     ]
    }
   ],
   "source": [
    "char=str(input(\"Enter any Character: \"))\n",
    "print(f\"The ASCII value of {char} is {ord(char)}\")"
   ]
  },
  {
   "cell_type": "code",
   "execution_count": null,
   "metadata": {},
   "outputs": [],
   "source": []
  }
 ],
 "metadata": {
  "colab": {
   "provenance": []
  },
  "kernelspec": {
   "display_name": "Python 3 (ipykernel)",
   "language": "python",
   "name": "python3"
  },
  "language_info": {
   "codemirror_mode": {
    "name": "ipython",
    "version": 3
   },
   "file_extension": ".py",
   "mimetype": "text/x-python",
   "name": "python",
   "nbconvert_exporter": "python",
   "pygments_lexer": "ipython3",
   "version": "3.11.4"
  }
 },
 "nbformat": 4,
 "nbformat_minor": 4
}
