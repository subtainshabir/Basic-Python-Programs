{
 "cells": [
  {
   "cell_type": "markdown",
   "metadata": {
    "id": "RnbssAn-5VSD"
   },
   "source": [
    "# Hello World"
   ]
  },
  {
   "cell_type": "code",
   "execution_count": 11,
   "metadata": {
    "colab": {
     "base_uri": "https://localhost:8080/"
    },
    "id": "e61oiza85RlJ",
    "outputId": "696aa712-d82e-44c4-fc81-c2904d8cbfb8"
   },
   "outputs": [
    {
     "name": "stdout",
     "output_type": "stream",
     "text": [
      "Hello World\n"
     ]
    }
   ],
   "source": [
    "print(\"Hello World\")"
   ]
  },
  {
   "cell_type": "markdown",
   "metadata": {
    "id": "YQVbpSnj5jZO"
   },
   "source": [
    "## Add Two numbers"
   ]
  },
  {
   "cell_type": "code",
   "execution_count": 1,
   "metadata": {
    "colab": {
     "base_uri": "https://localhost:8080/"
    },
    "id": "poNi08nX5b_d",
    "outputId": "2b632fd4-b136-4e29-c939-a2ff38939465"
   },
   "outputs": [
    {
     "name": "stdin",
     "output_type": "stream",
     "text": [
      "Enter first Number:  4\n",
      "Enter Second Number:  5\n"
     ]
    },
    {
     "name": "stdout",
     "output_type": "stream",
     "text": [
      "Sum of Two number is 9.0\n"
     ]
    }
   ],
   "source": [
    "num1=float(input(\"Enter first Number: \"))\n",
    "num2=float(input(\"Enter Second Number: \"))\n",
    "\n",
    "sum=num1+num2\n",
    "print(f\"Sum of Two number is {sum}\")"
   ]
  },
  {
   "cell_type": "markdown",
   "metadata": {
    "id": "muv5790w59cT"
   },
   "source": [
    "## Divsion of Two Numbers"
   ]
  },
  {
   "cell_type": "code",
   "execution_count": null,
   "metadata": {
    "colab": {
     "base_uri": "https://localhost:8080/"
    },
    "id": "nwtLSAhO569m",
    "outputId": "70173046-53ab-41ba-d536-a29976f57c3c"
   },
   "outputs": [
    {
     "name": "stdout",
     "output_type": "stream",
     "text": [
      "Enter Dividend for Division: 20\n",
      "Enter Divisor for Division: 5\n",
      "Division 20.0/5.0 = 4.0\n"
     ]
    }
   ],
   "source": [
    "num3=float(input(\"Enter Dividend for Division: \"))\n",
    "num4=float(input(\"Enter Divisor for Division: \"))\n",
    "\n",
    "if num3==0:\n",
    "  print(\"Divisor Should not be equal to zero. \")\n",
    "else:\n",
    "  result=num3/num4\n",
    "  print(f\"Division {num3}/{num4} = {result}\")"
   ]
  },
  {
   "cell_type": "markdown",
   "metadata": {
    "id": "xAmIvojN-QIO"
   },
   "source": [
    "# Area of Triangle"
   ]
  },
  {
   "cell_type": "code",
   "execution_count": null,
   "metadata": {
    "colab": {
     "base_uri": "https://localhost:8080/"
    },
    "id": "YVvto5eP63dx",
    "outputId": "1bf502ca-6682-4028-f802-e39b880160d3"
   },
   "outputs": [
    {
     "name": "stdout",
     "output_type": "stream",
     "text": [
      "Enter the base of Triangle: 10\n",
      "Enter the height of Triangle: 15\n",
      "Area of Triangle is : 75.0\n"
     ]
    }
   ],
   "source": [
    "base=float(input(\"Enter the base of Triangle: \"))\n",
    "height=float(input(\"Enter the height of Triangle: \"))\n",
    "\n",
    "area=0.5*base*height\n",
    "\n",
    "print(f\"Area of Triangle is : {area}\")"
   ]
  },
  {
   "cell_type": "markdown",
   "metadata": {
    "id": "HCVyzB-t-7r1"
   },
   "source": [
    "## Swap Two Variables"
   ]
  },
  {
   "cell_type": "code",
   "execution_count": null,
   "metadata": {
    "colab": {
     "base_uri": "https://localhost:8080/"
    },
    "id": "FHRIBReV-vkS",
    "outputId": "e57f587b-59e3-49e6-ee1d-801dce43e25b"
   },
   "outputs": [
    {
     "name": "stdout",
     "output_type": "stream",
     "text": [
      "Enter Number one: 5\n",
      "Enter Number Two: 10\n",
      "****Before Swaping****\n",
      "Value of Numbers are a=5.0, b=10.0\n",
      "\n",
      "\n",
      "****After Swaping****\n",
      "Value of Numbers are a=10.0, b=5.0\n"
     ]
    }
   ],
   "source": [
    "numb1=float(input(\"Enter Number one: \"))\n",
    "numb2=float(input(\"Enter Number Two: \"))\n",
    "\n",
    "print(\"****Before Swaping****\")\n",
    "print(f\"Value of Numbers are a={numb1}, b={numb2}\")\n",
    "\n",
    "temp=numb1\n",
    "numb1=numb2\n",
    "numb2=temp\n",
    "\n",
    "print(\"\\n\")\n",
    "print(\"****After Swaping****\")\n",
    "print(f\"Value of Numbers are a={numb1}, b={numb2}\")\n"
   ]
  },
  {
   "cell_type": "markdown",
   "metadata": {
    "id": "82l7y-yCAHaO"
   },
   "source": [
    "## Generate Random Number between 1 to 100"
   ]
  },
  {
   "cell_type": "code",
   "execution_count": null,
   "metadata": {
    "colab": {
     "base_uri": "https://localhost:8080/"
    },
    "id": "1myUrYpR__13",
    "outputId": "854312d4-50e8-4523-edde-b13fb6e4e8ff"
   },
   "outputs": [
    {
     "name": "stdout",
     "output_type": "stream",
     "text": [
      "4\n"
     ]
    }
   ],
   "source": [
    "import random\n",
    "print(random.randint(1,100))\n"
   ]
  },
  {
   "cell_type": "markdown",
   "metadata": {
    "id": "8iCq-8-8Adwp"
   },
   "source": [
    "## Program to Convert Kilometers to Miles"
   ]
  },
  {
   "cell_type": "code",
   "execution_count": null,
   "metadata": {
    "colab": {
     "base_uri": "https://localhost:8080/"
    },
    "id": "xT0ye6Z8AYV-",
    "outputId": "a5dd16b4-e848-4918-90c4-9fa224689940"
   },
   "outputs": [
    {
     "name": "stdout",
     "output_type": "stream",
     "text": [
      "Enter distance in Kilometers: 5\n",
      "5.0 Kilometers = 3.10685595 Miles\n"
     ]
    }
   ],
   "source": [
    "kilometers=float(input(\"Enter distance in Kilometers: \"))\n",
    "\n",
    "#1 kilometer= 0.62137119 miles\n",
    "conversion_factor= 0.62137119\n",
    "\n",
    "result=kilometers*conversion_factor\n",
    "\n",
    "print(f\"{kilometers} Kilometers = {result} Miles\")"
   ]
  },
  {
   "cell_type": "markdown",
   "metadata": {
    "id": "kq85ounPFoAM"
   },
   "source": [
    "## Fahrenheit to Celsius"
   ]
  },
  {
   "cell_type": "code",
   "execution_count": null,
   "metadata": {
    "colab": {
     "base_uri": "https://localhost:8080/"
    },
    "id": "PbiW1sPNFIPw",
    "outputId": "3e06f19e-e442-4473-ffd5-aacfacc01950"
   },
   "outputs": [
    {
     "name": "stdout",
     "output_type": "stream",
     "text": [
      "Enter Temperature in celsius: 100\n",
      "100.0 Fahrenheit = 212.0 Celsius\n"
     ]
    }
   ],
   "source": [
    "celsius=float(input(\"Enter Temperature in celsius: \"))\n",
    "\n",
    "Fahrenheit=celsius*(9/5)+32\n",
    "\n",
    "print(f\"{celsius} Fahrenheit = {Fahrenheit} Celsius\")"
   ]
  },
  {
   "cell_type": "markdown",
   "metadata": {
    "id": "4oQM2izsG_Dp"
   },
   "source": [
    "\n",
    "## Display Calender\n",
    "\n"
   ]
  },
  {
   "cell_type": "code",
   "execution_count": null,
   "metadata": {
    "colab": {
     "base_uri": "https://localhost:8080/"
    },
    "id": "OwNYTEIDGJ9e",
    "outputId": "41efe3eb-4de3-46c6-ca5c-74b019878b1a"
   },
   "outputs": [
    {
     "name": "stdout",
     "output_type": "stream",
     "text": [
      "Enter Year: 2023\n",
      "Enter Month: 12\n",
      "   December 2023\n",
      "Mo Tu We Th Fr Sa Su\n",
      "             1  2  3\n",
      " 4  5  6  7  8  9 10\n",
      "11 12 13 14 15 16 17\n",
      "18 19 20 21 22 23 24\n",
      "25 26 27 28 29 30 31\n",
      "\n"
     ]
    }
   ],
   "source": [
    "import calendar\n",
    "\n",
    "year=int(input(\"Enter Year: \"))\n",
    "month=int(input(\"Enter Month: \"))\n",
    "\n",
    "cal=calendar.month(year, month)\n",
    "print(cal)"
   ]
  },
  {
   "cell_type": "markdown",
   "metadata": {},
   "source": [
    "## Swap Two Variables without using Temp Variable"
   ]
  },
  {
   "cell_type": "code",
   "execution_count": 4,
   "metadata": {
    "id": "aIbBg5axHaNk"
   },
   "outputs": [
    {
     "name": "stdout",
     "output_type": "stream",
     "text": [
      "****Before Swaping****\n",
      "Value of Numbers are a=5, b=6\n",
      "\n",
      "\n",
      "****After Swaping****\n",
      "Value of Numbers are a=6, b=5\n"
     ]
    }
   ],
   "source": [
    "a=5\n",
    "b=6\n",
    "\n",
    "print(\"****Before Swaping****\")\n",
    "print(f\"Value of Numbers are a={a}, b={b}\")\n",
    "\n",
    "a,b=b,a\n",
    "\n",
    "print(\"\\n\")\n",
    "print(\"****After Swaping****\")\n",
    "print(f\"Value of Numbers are a={a}, b={b}\")"
   ]
  },
  {
   "cell_type": "markdown",
   "metadata": {},
   "source": [
    "## Program to weather Number is Positive Negative or Zero"
   ]
  },
  {
   "cell_type": "code",
   "execution_count": null,
   "metadata": {},
   "outputs": [],
   "source": [
    "num=float(input(\"Enter any Number: \"))\n",
    "\n",
    "if num==0:\n",
    "    print(\"Number is zero.\")\n",
    "elif num>0:\n",
    "    print(\"Number is Postive\")\n",
    "else:\n",
    "    print(\"Number is Negative\")\n"
   ]
  },
  {
   "cell_type": "markdown",
   "metadata": {},
   "source": [
    "## Program To check weather number is Even or Odd"
   ]
  },
  {
   "cell_type": "code",
   "execution_count": 16,
   "metadata": {},
   "outputs": [
    {
     "name": "stdin",
     "output_type": "stream",
     "text": [
      "Enter a Number:  5\n"
     ]
    },
    {
     "name": "stdout",
     "output_type": "stream",
     "text": [
      "5 is Odd\n"
     ]
    }
   ],
   "source": [
    "num=int(input(\"Enter a Number: \"))\n",
    "\n",
    "if num%2==0:\n",
    "    print(f\"{num} is Even\")\n",
    "elif num%2!=0:\n",
    "    print(f\"{num} is Odd\")\n",
    "else:\n",
    "    print(\"Please enter valid Number.\")"
   ]
  },
  {
   "cell_type": "markdown",
   "metadata": {},
   "source": [
    "## Write prgram to check weather Year is Leap or Not"
   ]
  },
  {
   "cell_type": "code",
   "execution_count": 18,
   "metadata": {},
   "outputs": [
    {
     "name": "stdin",
     "output_type": "stream",
     "text": [
      "Enter Year:  2024\n"
     ]
    },
    {
     "name": "stdout",
     "output_type": "stream",
     "text": [
      "2024 is Leap Year.\n"
     ]
    }
   ],
   "source": [
    "year=int(input(\"Enter Year: \"))\n",
    "\n",
    "if (year%400==0) and (year%100==0):\n",
    "    print(f\"{year} is Leap Year.\")\n",
    "\n",
    "elif year%4==0 and year%100:\n",
    "    print(f\"{year} is Leap Year.\")\n",
    "\n",
    "else: \n",
    "    print(f\"{year} is not Leap Year.\")\n",
    "        \n",
    "         "
   ]
  },
  {
   "cell_type": "markdown",
   "metadata": {},
   "source": [
    "## Check weather a number is Prime or Not"
   ]
  },
  {
   "cell_type": "code",
   "execution_count": 25,
   "metadata": {},
   "outputs": [
    {
     "name": "stdin",
     "output_type": "stream",
     "text": [
      "Enter a Number:  9\n"
     ]
    },
    {
     "name": "stdout",
     "output_type": "stream",
     "text": [
      "9 is Not Prime Number.\n"
     ]
    }
   ],
   "source": [
    "num=int(input(\"Enter a Number: \"))\n",
    "\n",
    "flag=False\n",
    "\n",
    "if num==1:\n",
    "    print(f\"{num} is Prime Number.\")\n",
    "elif num>1:\n",
    "    for i in range(2,num):\n",
    "        if (num%i)==0:\n",
    "            flag=True\n",
    "            break\n",
    "\n",
    "if flag:\n",
    "    print(f\"{num} is Not Prime Number.\")\n",
    "\n",
    "else:\n",
    "    print(f\"{num} is Prime Number.\")"
   ]
  },
  {
   "cell_type": "markdown",
   "metadata": {},
   "source": [
    "## Write Program to print Prime number interval 1-10"
   ]
  },
  {
   "cell_type": "code",
   "execution_count": 44,
   "metadata": {},
   "outputs": [
    {
     "name": "stdout",
     "output_type": "stream",
     "text": [
      "2,3,5,7,"
     ]
    }
   ],
   "source": [
    "start=1\n",
    "end=10\n",
    "\n",
    "\n",
    "for num in range(start, end+1):\n",
    "    if num>1:\n",
    "        for i in range(2,num):\n",
    "            if (num%i)==0:\n",
    "                break\n",
    "        else:\n",
    "            print(num,end=',')\n",
    "\n",
    "\n",
    "            \n",
    "        "
   ]
  },
  {
   "cell_type": "markdown",
   "metadata": {},
   "source": [
    "## Find Factorial of Number"
   ]
  },
  {
   "cell_type": "code",
   "execution_count": 4,
   "metadata": {},
   "outputs": [
    {
     "name": "stdin",
     "output_type": "stream",
     "text": [
      "Enter a Number to find factorial:  5\n"
     ]
    },
    {
     "name": "stdout",
     "output_type": "stream",
     "text": [
      "120\n"
     ]
    }
   ],
   "source": [
    "fact=1\n",
    "\n",
    "num=int(input(\"Enter a Number to find factorial: \"))\n",
    "if num<0:\n",
    "    print(\"Number Should be Zero or Greater than 0.\")\n",
    "elif num==0:\n",
    "    print(\"Factorial of 0 is 1.\")\n",
    "else:\n",
    "    for i in range(1,num+1):\n",
    "        fact=fact*i\n",
    "        i=i+1\n",
    "    print(fact)"
   ]
  },
  {
   "cell_type": "markdown",
   "metadata": {},
   "source": [
    "## Code to show multiplication table"
   ]
  },
  {
   "cell_type": "code",
   "execution_count": 9,
   "metadata": {},
   "outputs": [
    {
     "name": "stdout",
     "output_type": "stream",
     "text": [
      "13X1 = 13\n",
      "13X2 = 26\n",
      "13X3 = 39\n",
      "13X4 = 52\n",
      "13X5 = 65\n",
      "13X6 = 78\n",
      "13X7 = 91\n",
      "13X8 = 104\n",
      "13X9 = 117\n",
      "13X10 = 130\n"
     ]
    }
   ],
   "source": [
    "## let's suppose in this code table is of 13 up to 10\n",
    "for i in range(1,11):\n",
    "    print(f\"13X{i} = {13*i}\")"
   ]
  },
  {
   "cell_type": "markdown",
   "metadata": {},
   "source": [
    "##  Code to Print Fibonacci Series"
   ]
  },
  {
   "cell_type": "code",
   "execution_count": 14,
   "metadata": {},
   "outputs": [
    {
     "name": "stdin",
     "output_type": "stream",
     "text": [
      "How many terms? 15\n"
     ]
    },
    {
     "name": "stdout",
     "output_type": "stream",
     "text": [
      "Fibonacci series are:\n",
      "0\n",
      "1\n",
      "1\n",
      "2\n",
      "3\n",
      "5\n",
      "8\n",
      "13\n",
      "21\n",
      "34\n",
      "55\n",
      "89\n",
      "144\n",
      "233\n",
      "377\n"
     ]
    }
   ],
   "source": [
    "nterms=int(input(\"How many terms?\"))\n",
    "\n",
    "n1=0\n",
    "n2=1\n",
    "count=0\n",
    "\n",
    "if nterms<0:\n",
    "    print(\"Please Enter a positive Integer.\")\n",
    "elif nterms==0:\n",
    "    print(f\"Fibonacci Series upto nterm is {n1}.\")\n",
    "else:\n",
    "    print(\"Fibonacci series are:\")\n",
    "    while count<nterms:\n",
    "        print(n1)\n",
    "        nth=n1+n2\n",
    "        n1=n2\n",
    "        n2=nth\n",
    "        count+=1\n",
    "\n"
   ]
  },
  {
   "cell_type": "markdown",
   "metadata": {},
   "source": [
    "## Program to Find sum of Natural Numbers"
   ]
  },
  {
   "cell_type": "code",
   "execution_count": 10,
   "metadata": {},
   "outputs": [
    {
     "name": "stdin",
     "output_type": "stream",
     "text": [
      "Enter the limit of Numbers:  10\n"
     ]
    },
    {
     "name": "stdout",
     "output_type": "stream",
     "text": [
      "Numbers are: \n",
      "1,2,3,4,5,6,7,8,9,10,\n",
      "\n",
      "Sum of all Natural Numbers is 55\n"
     ]
    }
   ],
   "source": [
    "limit=int(input(\"Enter the limit of Numbers: \"))\n",
    "sum=0\n",
    "\n",
    "print(f\"Numbers are: \")\n",
    "for i in range(1,limit+1):\n",
    "    print(f\"{i}\",end=',')\n",
    "    sum=sum+i\n",
    "print(\"\\n\")\n",
    "print(f\"Sum of all Natural Numbers is {sum}\")"
   ]
  },
  {
   "cell_type": "markdown",
   "metadata": {},
   "source": [
    "## Program to find ASCII Numbers of Character"
   ]
  },
  {
   "cell_type": "code",
   "execution_count": 4,
   "metadata": {},
   "outputs": [
    {
     "name": "stdin",
     "output_type": "stream",
     "text": [
      "Enter any Character:  P\n"
     ]
    },
    {
     "name": "stdout",
     "output_type": "stream",
     "text": [
      "The ASCII value of 'P' is 80\n"
     ]
    }
   ],
   "source": [
    "char=str(input(\"Enter any Character: \"))\n",
    "print(f\"The ASCII value of '{char}' is {ord(char)}\")"
   ]
  },
  {
   "cell_type": "markdown",
   "metadata": {},
   "source": [
    "## Write a python program to make a simple calculator which have four Functionalities"
   ]
  },
  {
   "cell_type": "code",
   "execution_count": 16,
   "metadata": {},
   "outputs": [
    {
     "name": "stdout",
     "output_type": "stream",
     "text": [
      "\n",
      "\n",
      "**** Calculator ****\n",
      "1. ADD\n",
      "2. Subtract\n",
      "3. Division\n",
      "4. Multiplication\n"
     ]
    },
    {
     "name": "stdin",
     "output_type": "stream",
     "text": [
      "Enter a Number (1/2/3/4):  1\n",
      "Enter first Number:  23\n",
      "Enter Second Number:  23\n"
     ]
    },
    {
     "name": "stdout",
     "output_type": "stream",
     "text": [
      "46.0\n"
     ]
    },
    {
     "name": "stdin",
     "output_type": "stream",
     "text": [
      "Let's do Next Calculation (Y/N)?  n\n"
     ]
    }
   ],
   "source": [
    "def add(x,y):\n",
    "    return x+y\n",
    "def sub(x,y):\n",
    "    return x-y\n",
    "def Div(x,y):\n",
    "    return x/y\n",
    "def Mul(x,y):\n",
    "    return x*y\n",
    "\n",
    "print(\"\\n\")\n",
    "print(\"**** Calculator ****\")\n",
    "print(\"1. ADD\")\n",
    "print(\"2. Subtract\")\n",
    "print(\"3. Division\")\n",
    "print(\"4. Multiplication\")\n",
    "\n",
    "while True:\n",
    "    choice_str = input(\"Enter a Number (1/2/3/4): \")\n",
    "    if choice_str in ('1', '2', '3', '4'):\n",
    "        try:\n",
    "            x = float(input(\"Enter first Number: \"))\n",
    "            y = float(input(\"Enter Second Number: \"))\n",
    "        except ValueError:\n",
    "            print(\"Invalid Input! Please enter numbers.\")\n",
    "            continue\n",
    "        if choice_str == '1':\n",
    "            print(add(x, y))\n",
    "        elif choice_str == '2':\n",
    "            print(f\"Subtract = {sub(x, y)}\")\n",
    "        elif choice_str == '3':\n",
    "            print(f\"Division = {Div(x, y)}\")\n",
    "        elif choice_str == '4':\n",
    "            print(f\"Multiplication = {Mul(x, y)}\")\n",
    "        \n",
    "        next_calculation = input(\"Let's do Next Calculation (Y/N)? \").lower()\n",
    "        if next_calculation in ('n', 'no'):\n",
    "            break\n",
    "    else:\n",
    "        print(\"Invalid Input\")\n",
    "\n",
    "\n",
    "\n",
    "\n",
    "\n"
   ]
  },
  {
   "cell_type": "markdown",
   "metadata": {},
   "source": [
    "## Factorial of a Number using recursion"
   ]
  },
  {
   "cell_type": "code",
   "execution_count": 6,
   "metadata": {},
   "outputs": [
    {
     "name": "stdin",
     "output_type": "stream",
     "text": [
      "Enter a Number to find Factorial:  5\n"
     ]
    },
    {
     "name": "stdout",
     "output_type": "stream",
     "text": [
      "Factorial of 5 is 120\n"
     ]
    }
   ],
   "source": [
    "def recu_fact(num):\n",
    "    if num==1:\n",
    "        return 1\n",
    "    else:\n",
    "        return num*recu_fact(num-1)\n",
    "\n",
    "num=int(input(\"Enter a Number to find Factorial: \"))\n",
    "\n",
    "if num<0:\n",
    "    print(f\"Sorry! Factorial of {num} dosn't exist.\")\n",
    "elif num==0:\n",
    "    print(\"Factorial of Number is 1\")\n",
    "else:\n",
    "    print(f\"Factorial of {num} is {recu_fact(num)}\")\n"
   ]
  },
  {
   "cell_type": "markdown",
   "metadata": {},
   "source": [
    "## Python code to Calculate Body Mass Index"
   ]
  },
  {
   "cell_type": "code",
   "execution_count": 9,
   "metadata": {},
   "outputs": [
    {
     "name": "stdin",
     "output_type": "stream",
     "text": [
      "Enter weight in Kilograms:  58\n",
      "Enter Height in Meters:  1.7\n"
     ]
    },
    {
     "name": "stdout",
     "output_type": "stream",
     "text": [
      "Your BMI is : 20.07\n",
      "Your weight is Normal. \n"
     ]
    }
   ],
   "source": [
    "def BMI(weight, height):\n",
    "    return round((weight/height**2),2)\n",
    "\n",
    "w=float(input(\"Enter weight in Kilograms: \"))\n",
    "h=float(input(\"Enter Height in Meters: \"))\n",
    "\n",
    "bmi=BMI(w,h)\n",
    "print(f\"Your BMI is : {bmi}\")\n",
    "\n",
    "if bmi<=18.5:\n",
    "    print(\"You are underweight. \")\n",
    "elif bmi<=24.9:\n",
    "    print(\"Your weight is Normal. \")\n",
    "elif bmi<=29.29:\n",
    "    print(\"You are overweight. \")\n",
    "else:\n",
    "    print(\"You are obese.\")"
   ]
  },
  {
   "cell_type": "markdown",
   "metadata": {},
   "source": [
    "## Write a program to sum of all elements in array"
   ]
  },
  {
   "cell_type": "code",
   "execution_count": 1,
   "metadata": {},
   "outputs": [
    {
     "name": "stdout",
     "output_type": "stream",
     "text": [
      "Sum: 18\n"
     ]
    }
   ],
   "source": [
    "arr=[3,4,5,6]\n",
    "ans=sum(arr)\n",
    "print(f\"Sum: {ans}\")"
   ]
  },
  {
   "cell_type": "markdown",
   "metadata": {},
   "source": [
    "## Write a program to find the largest element array"
   ]
  },
  {
   "cell_type": "code",
   "execution_count": 2,
   "metadata": {},
   "outputs": [
    {
     "name": "stdout",
     "output_type": "stream",
     "text": [
      "Largest Number in Given array is: 456\n"
     ]
    }
   ],
   "source": [
    "arr=[23,63,31,74,88,3,1,45,123,35,21,456,98]\n",
    "largest_number=0\n",
    "\n",
    "for i in arr:\n",
    "    if i>largest_number:\n",
    "        largest_number=i\n",
    "print(f\"Largest Number in Given array is: {largest_number}\")"
   ]
  },
  {
   "cell_type": "markdown",
   "metadata": {},
   "source": [
    "## Program to Split and then add the array"
   ]
  },
  {
   "cell_type": "code",
   "execution_count": 6,
   "metadata": {},
   "outputs": [
    {
     "name": "stdout",
     "output_type": "stream",
     "text": [
      "Orignal Array is : [1, 2, 3, 4, 5]\n",
      "After Spliting and Adding the resultant array: [3, 4, 5, 1, 2]\n"
     ]
    }
   ],
   "source": [
    "def split_add_array(arr, k):\n",
    "    ##K is the index number from it will split\n",
    "    if k<=0 or k>=len(arr):\n",
    "        return arr\n",
    "    else:\n",
    "        first_part=arr[:k]\n",
    "        second_part=arr[k:]\n",
    "        return second_part+first_part\n",
    "\n",
    "arr=[1,2,3,4,5]\n",
    "k=2\n",
    "\n",
    "print(f\"Orignal Array is : {arr}\")\n",
    "print(f\"After Spliting and Adding the resultant array: {split_add_array(arr,k)}\")"
   ]
  },
  {
   "cell_type": "markdown",
   "metadata": {},
   "source": [
    "## Program to add two matrices"
   ]
  },
  {
   "cell_type": "code",
   "execution_count": 7,
   "metadata": {},
   "outputs": [
    {
     "name": "stdout",
     "output_type": "stream",
     "text": [
      "Sum of Matrices is:\n",
      "[5, 4]\n",
      "[7, 6]\n"
     ]
    }
   ],
   "source": [
    "def add_two_matrices(mat1, mat2):\n",
    "    if len(mat1)!=len(mat2) or len(mat1[0])!= len(mat2[0]):\n",
    "        return \"Both the matrices have not the same dimensions\"\n",
    "\n",
    "    ## Initialize the list for resultant matrices\n",
    "    result=[]\n",
    "    for i in range(len(mat1)):\n",
    "        row=[]\n",
    "        for j in range(len(mat1[0])):\n",
    "            row.append(mat1[i][j] + mat2[i][j])\n",
    "        result.append(row)\n",
    "    return result\n",
    "\n",
    "matrix1=[\n",
    "        [1,2],\n",
    "        [3,4]]\n",
    "\n",
    "matrix2=[\n",
    "        [4,2],\n",
    "        [4,2]]\n",
    "\n",
    "res=add_two_matrices(matrix1, matrix2)\n",
    "\n",
    "print(\"Sum of Matrices is:\")\n",
    "for row in res:\n",
    "    print(row)"
   ]
  },
  {
   "cell_type": "markdown",
   "metadata": {},
   "source": [
    "## Program to Sort in Alphabatic Order"
   ]
  },
  {
   "cell_type": "code",
   "execution_count": 13,
   "metadata": {},
   "outputs": [
    {
     "name": "stdin",
     "output_type": "stream",
     "text": [
      "Enter string:  My Name is Subtain. I am from Kotli Azad Kashmir. I am student of University of Kotli Azad Kashmri\n"
     ]
    },
    {
     "name": "stdout",
     "output_type": "stream",
     "text": [
      "The sorted unique words are:\n",
      "Am\n",
      "Azad\n",
      "From\n",
      "I\n",
      "Is\n",
      "Kashmir.\n",
      "Kashmri\n",
      "Kotli\n",
      "My\n",
      "Name\n",
      "Of\n",
      "Student\n",
      "Subtain.\n",
      "University\n"
     ]
    }
   ],
   "source": [
    "my_str = str(input(\"Enter string: \"))\n",
    "\n",
    "# Capitalize each word and store them in a list\n",
    "words = [word.capitalize() for word in my_str.split()]\n",
    "\n",
    "# Use a set to store unique words\n",
    "unique_words = set(words)\n",
    "\n",
    "# Sort the unique words in alphabetical order\n",
    "sorted_unique_words = sorted(unique_words)\n",
    "\n",
    "# Print the sorted unique words\n",
    "print(\"The sorted unique words are:\")\n",
    "for word in sorted_unique_words:\n",
    "    print(word)\n"
   ]
  },
  {
   "cell_type": "code",
   "execution_count": null,
   "metadata": {},
   "outputs": [],
   "source": []
  }
 ],
 "metadata": {
  "colab": {
   "provenance": []
  },
  "kernelspec": {
   "display_name": "Python 3 (ipykernel)",
   "language": "python",
   "name": "python3"
  },
  "language_info": {
   "codemirror_mode": {
    "name": "ipython",
    "version": 3
   },
   "file_extension": ".py",
   "mimetype": "text/x-python",
   "name": "python",
   "nbconvert_exporter": "python",
   "pygments_lexer": "ipython3",
   "version": "3.11.4"
  }
 },
 "nbformat": 4,
 "nbformat_minor": 4
}
