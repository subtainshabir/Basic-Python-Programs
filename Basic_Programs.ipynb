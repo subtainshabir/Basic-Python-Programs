{
  "nbformat": 4,
  "nbformat_minor": 0,
  "metadata": {
    "colab": {
      "provenance": []
    },
    "kernelspec": {
      "name": "python3",
      "display_name": "Python 3"
    },
    "language_info": {
      "name": "python"
    }
  },
  "cells": [
    {
      "cell_type": "markdown",
      "source": [
        "# Hello World"
      ],
      "metadata": {
        "id": "RnbssAn-5VSD"
      }
    },
    {
      "cell_type": "code",
      "execution_count": null,
      "metadata": {
        "colab": {
          "base_uri": "https://localhost:8080/"
        },
        "id": "e61oiza85RlJ",
        "outputId": "696aa712-d82e-44c4-fc81-c2904d8cbfb8"
      },
      "outputs": [
        {
          "output_type": "stream",
          "name": "stdout",
          "text": [
            "Hello World\n"
          ]
        }
      ],
      "source": [
        "print(\"Hello World\")"
      ]
    },
    {
      "cell_type": "markdown",
      "source": [
        "## Add Two numbers"
      ],
      "metadata": {
        "id": "YQVbpSnj5jZO"
      }
    },
    {
      "cell_type": "code",
      "source": [
        "num1=float(input(\"Enter first Number: \"))\n",
        "num2=float(input(\"Enter Second Number: \"))\n",
        "\n",
        "sum=num1+num2\n",
        "print(f\"Sum of Two number is {sum}\")"
      ],
      "metadata": {
        "colab": {
          "base_uri": "https://localhost:8080/"
        },
        "id": "poNi08nX5b_d",
        "outputId": "2b632fd4-b136-4e29-c939-a2ff38939465"
      },
      "execution_count": null,
      "outputs": [
        {
          "output_type": "stream",
          "name": "stdout",
          "text": [
            "Enter first Number: 5\n",
            "Enter Second Number: 10\n",
            "Sum of Two number is 15.0\n"
          ]
        }
      ]
    },
    {
      "cell_type": "markdown",
      "source": [
        "## Divsion of Two Numbers"
      ],
      "metadata": {
        "id": "muv5790w59cT"
      }
    },
    {
      "cell_type": "code",
      "source": [
        "num3=float(input(\"Enter Dividend for Division: \"))\n",
        "num4=float(input(\"Enter Divisor for Division: \"))\n",
        "\n",
        "if num3==0:\n",
        "  print(\"Divisor Should not be equal to zero. \")\n",
        "else:\n",
        "  result=num3/num4\n",
        "  print(f\"Division {num3}/{num4} = {result}\")"
      ],
      "metadata": {
        "colab": {
          "base_uri": "https://localhost:8080/"
        },
        "id": "nwtLSAhO569m",
        "outputId": "70173046-53ab-41ba-d536-a29976f57c3c"
      },
      "execution_count": null,
      "outputs": [
        {
          "output_type": "stream",
          "name": "stdout",
          "text": [
            "Enter Dividend for Division: 20\n",
            "Enter Divisor for Division: 5\n",
            "Division 20.0/5.0 = 4.0\n"
          ]
        }
      ]
    },
    {
      "cell_type": "markdown",
      "source": [
        "# Area of Triangle"
      ],
      "metadata": {
        "id": "xAmIvojN-QIO"
      }
    },
    {
      "cell_type": "code",
      "source": [
        "base=float(input(\"Enter the base of Triangle: \"))\n",
        "height=float(input(\"Enter the height of Triangle: \"))\n",
        "\n",
        "area=0.5*base*height\n",
        "\n",
        "print(f\"Area of Triangle is : {area}\")"
      ],
      "metadata": {
        "colab": {
          "base_uri": "https://localhost:8080/"
        },
        "id": "YVvto5eP63dx",
        "outputId": "1bf502ca-6682-4028-f802-e39b880160d3"
      },
      "execution_count": null,
      "outputs": [
        {
          "output_type": "stream",
          "name": "stdout",
          "text": [
            "Enter the base of Triangle: 10\n",
            "Enter the height of Triangle: 15\n",
            "Area of Triangle is : 75.0\n"
          ]
        }
      ]
    },
    {
      "cell_type": "markdown",
      "source": [
        "## Swap Two Variables"
      ],
      "metadata": {
        "id": "HCVyzB-t-7r1"
      }
    },
    {
      "cell_type": "code",
      "source": [
        "numb1=float(input(\"Enter Number one: \"))\n",
        "numb2=float(input(\"Enter Number Two: \"))\n",
        "\n",
        "print(\"****Before Swaping****\")\n",
        "print(f\"Value of Numbers are a={numb1}, b={numb2}\")\n",
        "\n",
        "temp=numb1\n",
        "numb1=numb2\n",
        "numb2=temp\n",
        "\n",
        "print(\"\\n\")\n",
        "print(\"****After Swaping****\")\n",
        "print(f\"Value of Numbers are a={numb1}, b={numb2}\")\n"
      ],
      "metadata": {
        "colab": {
          "base_uri": "https://localhost:8080/"
        },
        "id": "FHRIBReV-vkS",
        "outputId": "e57f587b-59e3-49e6-ee1d-801dce43e25b"
      },
      "execution_count": null,
      "outputs": [
        {
          "output_type": "stream",
          "name": "stdout",
          "text": [
            "Enter Number one: 5\n",
            "Enter Number Two: 10\n",
            "****Before Swaping****\n",
            "Value of Numbers are a=5.0, b=10.0\n",
            "\n",
            "\n",
            "****After Swaping****\n",
            "Value of Numbers are a=10.0, b=5.0\n"
          ]
        }
      ]
    },
    {
      "cell_type": "markdown",
      "source": [
        "## Generate Random Number between 1 to 100"
      ],
      "metadata": {
        "id": "82l7y-yCAHaO"
      }
    },
    {
      "cell_type": "code",
      "source": [
        "import random\n",
        "print(random.randint(1,100))\n"
      ],
      "metadata": {
        "colab": {
          "base_uri": "https://localhost:8080/"
        },
        "id": "1myUrYpR__13",
        "outputId": "854312d4-50e8-4523-edde-b13fb6e4e8ff"
      },
      "execution_count": null,
      "outputs": [
        {
          "output_type": "stream",
          "name": "stdout",
          "text": [
            "4\n"
          ]
        }
      ]
    },
    {
      "cell_type": "markdown",
      "source": [
        "## Program to Convert Kilometers to Miles"
      ],
      "metadata": {
        "id": "8iCq-8-8Adwp"
      }
    },
    {
      "cell_type": "code",
      "source": [
        "kilometers=float(input(\"Enter distance in Kilometers: \"))\n",
        "\n",
        "#1 kilometer= 0.62137119 miles\n",
        "conversion_factor= 0.62137119\n",
        "\n",
        "result=kilometers*conversion_factor\n",
        "\n",
        "print(f\"{kilometers} Kilometers = {result} Miles\")"
      ],
      "metadata": {
        "colab": {
          "base_uri": "https://localhost:8080/"
        },
        "id": "xT0ye6Z8AYV-",
        "outputId": "a5dd16b4-e848-4918-90c4-9fa224689940"
      },
      "execution_count": null,
      "outputs": [
        {
          "output_type": "stream",
          "name": "stdout",
          "text": [
            "Enter distance in Kilometers: 5\n",
            "5.0 Kilometers = 3.10685595 Miles\n"
          ]
        }
      ]
    },
    {
      "cell_type": "markdown",
      "source": [
        "## Fahrenheit to Celsius"
      ],
      "metadata": {
        "id": "kq85ounPFoAM"
      }
    },
    {
      "cell_type": "code",
      "source": [
        "celsius=float(input(\"Enter Temperature in celsius: \"))\n",
        "\n",
        "Fahrenheit=celsius*(9/5)+32\n",
        "\n",
        "print(f\"{celsius} Fahrenheit = {Fahrenheit} Celsius\")"
      ],
      "metadata": {
        "colab": {
          "base_uri": "https://localhost:8080/"
        },
        "id": "PbiW1sPNFIPw",
        "outputId": "3e06f19e-e442-4473-ffd5-aacfacc01950"
      },
      "execution_count": null,
      "outputs": [
        {
          "output_type": "stream",
          "name": "stdout",
          "text": [
            "Enter Temperature in celsius: 100\n",
            "100.0 Fahrenheit = 212.0 Celsius\n"
          ]
        }
      ]
    },
    {
      "cell_type": "markdown",
      "source": [
        "\n",
        "## Display Calender\n",
        "\n"
      ],
      "metadata": {
        "id": "4oQM2izsG_Dp"
      }
    },
    {
      "cell_type": "code",
      "source": [
        "import calendar\n",
        "\n",
        "year=int(input(\"Enter Year: \"))\n",
        "month=int(input(\"Enter Month: \"))\n",
        "\n",
        "cal=calendar.month(year, month)\n",
        "print(cal)"
      ],
      "metadata": {
        "colab": {
          "base_uri": "https://localhost:8080/"
        },
        "id": "OwNYTEIDGJ9e",
        "outputId": "41efe3eb-4de3-46c6-ca5c-74b019878b1a"
      },
      "execution_count": null,
      "outputs": [
        {
          "output_type": "stream",
          "name": "stdout",
          "text": [
            "Enter Year: 2023\n",
            "Enter Month: 12\n",
            "   December 2023\n",
            "Mo Tu We Th Fr Sa Su\n",
            "             1  2  3\n",
            " 4  5  6  7  8  9 10\n",
            "11 12 13 14 15 16 17\n",
            "18 19 20 21 22 23 24\n",
            "25 26 27 28 29 30 31\n",
            "\n"
          ]
        }
      ]
    },
    {
      "cell_type": "code",
      "source": [
        "1"
      ],
      "metadata": {
        "id": "aIbBg5axHaNk"
      },
      "execution_count": null,
      "outputs": []
    }
  ]
}